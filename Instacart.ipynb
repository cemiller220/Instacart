{
 "cells": [
  {
   "cell_type": "code",
   "execution_count": 1,
   "metadata": {
    "collapsed": false
   },
   "outputs": [],
   "source": [
    "import pandas as pd\n",
    "import zipfile, StringIO\n",
    "import matplotlib\n",
    "import matplotlib.pyplot as plt\n",
    "import seaborn as sns\n",
    "%matplotlib inline\n",
    "import numpy as np"
   ]
  },
  {
   "cell_type": "code",
   "execution_count": 2,
   "metadata": {
    "collapsed": false
   },
   "outputs": [],
   "source": [
    "z1 = zipfile.ZipFile('aisles.csv.zip')\n",
    "aisles = pd.read_csv(z1.open('aisles.csv'))\n",
    "\n",
    "z2 = zipfile.ZipFile('departments.csv.zip')\n",
    "departments = pd.read_csv(z2.open('departments.csv'))\n",
    "\n",
    "z3 = zipfile.ZipFile('orders.csv.zip')\n",
    "orders = pd.read_csv(z3.open('orders.csv'))\n",
    "\n",
    "z4 = zipfile.ZipFile('products.csv.zip')\n",
    "products = pd.read_csv(z4.open('products.csv'))\n",
    "\n",
    "z5 = zipfile.ZipFile('order_products__prior.csv.zip')\n",
    "order_products__prior = pd.read_csv(z5.open('order_products__prior.csv'))\n",
    "\n",
    "z6 = zipfile.ZipFile('order_products__train.csv.zip')\n",
    "order_products__train = pd.read_csv(z6.open('order_products__train.csv'))"
   ]
  },
  {
   "cell_type": "markdown",
   "metadata": {},
   "source": [
    "### Number of orders per user\n",
    "\n",
    "All users have at least 4 orders. Mean number of orders is 16.6, median is 10. Maximum number of orders is 100, probably a cutoff in the dataset."
   ]
  },
  {
   "cell_type": "code",
   "execution_count": 347,
   "metadata": {
    "collapsed": false
   },
   "outputs": [
    {
     "data": {
      "image/png": "[encoded data removed]",
      "text/plain": [
       "<matplotlib.figure.Figure at 0x19a9c26d0>"
      ]
     },
     "metadata": {},
     "output_type": "display_data"
    }
   ],
   "source": [
    "num_orders = pd.DataFrame(orders.groupby('user_id')['order_number'].max())\n",
    "num_orders.hist(bins=20)\n",
    "num_orders.describe().T\n",
    "plt.title('Number of Orders Per Customer')\n",
    "plt.xlabel('Number of Orders')\n",
    "plt.ylabel('Number of Customers')\n",
    "plt.savefig('figures/orders.png', bbox_inches='tight')"
   ]
  },
  {
   "cell_type": "markdown",
   "metadata": {},
   "source": [
    "### Popularity of Days and Times to Order"
   ]
  },
  {
   "cell_type": "code",
   "execution_count": 83,
   "metadata": {
    "collapsed": false
   },
   "outputs": [
    {
     "name": "stderr",
     "output_type": "stream",
     "text": [
      "/Users/clairemiller/anaconda/lib/python2.7/site-packages/numpy/lib/function_base.py:3834: RuntimeWarning: Invalid value encountered in percentile\n",
      "  RuntimeWarning)\n"
     ]
    },
    {
     "data": {
      "text/html": [
       "<div>\n",
       "<table border=\"1\" class=\"dataframe\">\n",
       "  <thead>\n",
       "    <tr style=\"text-align: right;\">\n",
       "      <th></th>\n",
       "      <th>order_id</th>\n",
       "      <th>user_id</th>\n",
       "      <th>order_number</th>\n",
       "      <th>order_dow</th>\n",
       "      <th>order_hour_of_day</th>\n",
       "      <th>days_since_prior_order</th>\n",
       "    </tr>\n",
       "  </thead>\n",
       "  <tbody>\n",
       "    <tr>\n",
       "      <th>count</th>\n",
       "      <td>3.421083e+06</td>\n",
       "      <td>3.421083e+06</td>\n",
       "      <td>3.421083e+06</td>\n",
       "      <td>3.421083e+06</td>\n",
       "      <td>3.421083e+06</td>\n",
       "      <td>3.214874e+06</td>\n",
       "    </tr>\n",
       "    <tr>\n",
       "      <th>mean</th>\n",
       "      <td>1.710542e+06</td>\n",
       "      <td>1.029782e+05</td>\n",
       "      <td>1.715486e+01</td>\n",
       "      <td>2.776219e+00</td>\n",
       "      <td>1.345202e+01</td>\n",
       "      <td>1.111484e+01</td>\n",
       "    </tr>\n",
       "    <tr>\n",
       "      <th>std</th>\n",
       "      <td>9.875817e+05</td>\n",
       "      <td>5.953372e+04</td>\n",
       "      <td>1.773316e+01</td>\n",
       "      <td>2.046829e+00</td>\n",
       "      <td>4.226088e+00</td>\n",
       "      <td>9.206737e+00</td>\n",
       "    </tr>\n",
       "    <tr>\n",
       "      <th>min</th>\n",
       "      <td>1.000000e+00</td>\n",
       "      <td>1.000000e+00</td>\n",
       "      <td>1.000000e+00</td>\n",
       "      <td>0.000000e+00</td>\n",
       "      <td>0.000000e+00</td>\n",
       "      <td>0.000000e+00</td>\n",
       "    </tr>\n",
       "    <tr>\n",
       "      <th>25%</th>\n",
       "      <td>8.552715e+05</td>\n",
       "      <td>5.139400e+04</td>\n",
       "      <td>5.000000e+00</td>\n",
       "      <td>1.000000e+00</td>\n",
       "      <td>1.000000e+01</td>\n",
       "      <td>NaN</td>\n",
       "    </tr>\n",
       "    <tr>\n",
       "      <th>50%</th>\n",
       "      <td>1.710542e+06</td>\n",
       "      <td>1.026890e+05</td>\n",
       "      <td>1.100000e+01</td>\n",
       "      <td>3.000000e+00</td>\n",
       "      <td>1.300000e+01</td>\n",
       "      <td>NaN</td>\n",
       "    </tr>\n",
       "    <tr>\n",
       "      <th>75%</th>\n",
       "      <td>2.565812e+06</td>\n",
       "      <td>1.543850e+05</td>\n",
       "      <td>2.300000e+01</td>\n",
       "      <td>5.000000e+00</td>\n",
       "      <td>1.600000e+01</td>\n",
       "      <td>NaN</td>\n",
       "    </tr>\n",
       "    <tr>\n",
       "      <th>max</th>\n",
       "      <td>3.421083e+06</td>\n",
       "      <td>2.062090e+05</td>\n",
       "      <td>1.000000e+02</td>\n",
       "      <td>6.000000e+00</td>\n",
       "      <td>2.300000e+01</td>\n",
       "      <td>3.000000e+01</td>\n",
       "    </tr>\n",
       "  </tbody>\n",
       "</table>\n",
       "</div>"
      ],
      "text/plain": [
       "           order_id       user_id  order_number     order_dow  \\\n",
       "count  3.421083e+06  3.421083e+06  3.421083e+06  3.421083e+06   \n",
       "mean   1.710542e+06  1.029782e+05  1.715486e+01  2.776219e+00   \n",
       "std    9.875817e+05  5.953372e+04  1.773316e+01  2.046829e+00   \n",
       "min    1.000000e+00  1.000000e+00  1.000000e+00  0.000000e+00   \n",
       "25%    8.552715e+05  5.139400e+04  5.000000e+00  1.000000e+00   \n",
       "50%    1.710542e+06  1.026890e+05  1.100000e+01  3.000000e+00   \n",
       "75%    2.565812e+06  1.543850e+05  2.300000e+01  5.000000e+00   \n",
       "max    3.421083e+06  2.062090e+05  1.000000e+02  6.000000e+00   \n",
       "\n",
       "       order_hour_of_day  days_since_prior_order  \n",
       "count       3.421083e+06            3.214874e+06  \n",
       "mean        1.345202e+01            1.111484e+01  \n",
       "std         4.226088e+00            9.206737e+00  \n",
       "min         0.000000e+00            0.000000e+00  \n",
       "25%         1.000000e+01                     NaN  \n",
       "50%         1.300000e+01                     NaN  \n",
       "75%         1.600000e+01                     NaN  \n",
       "max         2.300000e+01            3.000000e+01  "
      ]
     },
     "execution_count": 83,
     "metadata": {},
     "output_type": "execute_result"
    }
   ],
   "source": [
    "orders.describe()"
   ]
  },
  {
   "cell_type": "code",
   "execution_count": 348,
   "metadata": {
    "collapsed": false
   },
   "outputs": [
    {
     "data": {
      "image/png": "[encoded data removed]",
      "text/plain": [
       "<matplotlib.figure.Figure at 0x1503654d0>"
      ]
     },
     "metadata": {},
     "output_type": "display_data"
    },
    {
     "data": {
      "image/png": "[encoded data removed]",
      "text/plain": [
       "<matplotlib.figure.Figure at 0x14db331d0>"
      ]
     },
     "metadata": {},
     "output_type": "display_data"
    },
    {
     "data": {
      "image/png": "[encoded data removed]",
      "text/plain": [
       "<matplotlib.figure.Figure at 0x19b22ec90>"
      ]
     },
     "metadata": {},
     "output_type": "display_data"
    }
   ],
   "source": [
    "plt.figure(figsize=(4,3))\n",
    "orders['order_dow'].hist(bins=7)\n",
    "plt.xlabel('Day')\n",
    "plt.ylabel('Number of Orders')\n",
    "plt.title('Day of Week')\n",
    "plt.savefig('figures/day.png', bbox_inches='tight')\n",
    "\n",
    "plt.figure(figsize=(4,3))\n",
    "orders['order_hour_of_day'].hist(bins=24)\n",
    "plt.xlabel('Hour')\n",
    "plt.ylabel('Number of Orders')\n",
    "plt.title('Time of Day')\n",
    "plt.savefig('figures/time.png', bbox_inches='tight')\n",
    "\n",
    "plt.figure()\n",
    "orders['days_since_prior_order'].hist(bins=31)\n",
    "plt.title('Days Since Last Order')\n",
    "plt.xlabel('Number of Days')\n",
    "plt.ylabel('Number of Orders')\n",
    "plt.text(6.8,310000,'*',color='red',size=20)\n",
    "plt.text(13.6,90000,'*',color='red',size=20)\n",
    "plt.text(20.4,40000,'*',color='red',size=20)\n",
    "plt.text(27.2,20000,'*',color='red',size=20)\n",
    "plt.text(10,350000,'* = Same day of the week as previous order', color='red')\n",
    "plt.savefig('figures/freq.png', bbox_inches='tight')"
   ]
  },
  {
   "cell_type": "markdown",
   "metadata": {},
   "source": [
    "### Items reordered"
   ]
  },
  {
   "cell_type": "code",
   "execution_count": 111,
   "metadata": {
    "collapsed": false
   },
   "outputs": [
    {
     "name": "stdout",
     "output_type": "stream",
     "text": [
      "Not Reordered \t0.410302533208\n",
      "Reordered \t0.589697466792\n"
     ]
    }
   ],
   "source": [
    "names = ['Not Reordered', 'Reordered']\n",
    "i = 0\n",
    "for val in order_products__prior.groupby('reordered').size():\n",
    "    print names[i], '\\t', float(val)/len(order_products__prior)\n",
    "    i += 1"
   ]
  },
  {
   "cell_type": "code",
   "execution_count": 31,
   "metadata": {
    "collapsed": false
   },
   "outputs": [
    {
     "data": {
      "image/png": "[encoded data removed]",
      "text/plain": [
       "<matplotlib.figure.Figure at 0x145ba7710>"
      ]
     },
     "metadata": {},
     "output_type": "display_data"
    }
   ],
   "source": [
    "reordered = pd.DataFrame(order_products__prior.groupby('reordered').size()).rename(columns={0: 'count'})\n",
    "reordered['count'] = reordered['count']/reordered['count'].sum()*100\n",
    "fig, ax = plt.subplots(figsize=(2,4))\n",
    "reordered['count'].plot(kind='bar', ax=ax)\n",
    "ax.set_xticklabels(['Not Reordered','Reordered'])\n",
    "plt.xlabel('')\n",
    "plt.ylabel('Percent of Products')\n",
    "plt.title('All Orders')\n",
    "plt.ylim([0,70])\n",
    "plt.savefig('figures/pct_reordered.png',bbox_inches='tight')"
   ]
  },
  {
   "cell_type": "code",
   "execution_count": 371,
   "metadata": {
    "collapsed": false
   },
   "outputs": [],
   "source": [
    "not_1_order_ids = orders[orders['order_number']>1]['order_id'].values"
   ]
  },
  {
   "cell_type": "code",
   "execution_count": 379,
   "metadata": {
    "collapsed": false
   },
   "outputs": [
    {
     "data": {
      "image/png": "[encoded data removed]",
      "text/plain": [
       "<matplotlib.figure.Figure at 0x1407b0490>"
      ]
     },
     "metadata": {},
     "output_type": "display_data"
    }
   ],
   "source": [
    "#reordered_not1 = pd.DataFrame(order_products__prior[order_products__prior['order_id'].isin(not_1_order_ids)].groupby('reordered').size()).rename(columns={0: 'count'})\n",
    "#reordered_not1['count'] = reordered_not1['count']/reordered_not1['count'].sum()*100\n",
    "fig, ax = plt.subplots(figsize=(2,4))\n",
    "reordered_not1['count'].plot(kind='bar', ax=ax)\n",
    "ax.set_xticklabels(['Not Reordered','Reordered'])\n",
    "plt.xlabel('')\n",
    "plt.ylabel('Percent of Products')\n",
    "plt.title('Subsequent Orders')\n",
    "plt.savefig('figures/pct_reordered_not1.png',bbox_inches='tight')"
   ]
  },
  {
   "cell_type": "code",
   "execution_count": 14,
   "metadata": {
    "collapsed": false
   },
   "outputs": [
    {
     "name": "stdout",
     "output_type": "stream",
     "text": [
      "11\n",
      "12\n",
      "13\n",
      "14\n",
      "15\n"
     ]
    }
   ],
   "source": [
    "results = []\n",
    "for i in xrange(2,16):\n",
    "    print i\n",
    "    num_order_ids = orders[orders['order_number'] == i]['order_id'].values\n",
    "    reordered_num = order_products__prior[order_products__prior['order_id'].isin(num_order_ids)]['reordered']\n",
    "    results.append([i,reordered_num.sum()/float(len(reordered_num))])"
   ]
  },
  {
   "cell_type": "code",
   "execution_count": 29,
   "metadata": {
    "collapsed": false
   },
   "outputs": [
    {
     "data": {
      "image/png": "[encoded data removed]",
      "text/plain": [
       "<matplotlib.figure.Figure at 0x146359610>"
      ]
     },
     "metadata": {},
     "output_type": "display_data"
    }
   ],
   "source": [
    "reorder_by_num = pd.DataFrame(results, columns=['order_number','reorder_pct'])\n",
    "reorder_by_num['non_reorder_pct'] = 100*(1 - reorder_by_num['reorder_pct'])\n",
    "reorder_by_num['reorder_pct'] = reorder_by_num['reorder_pct']*100\n",
    "reorder_by_num.set_index('order_number')[['non_reorder_pct','reorder_pct']].plot.bar()\n",
    "plt.legend(['Not Reordered', 'Reordered'],loc=9)\n",
    "plt.xlabel('Order Number')\n",
    "plt.ylabel('Percent of Products')\n",
    "plt.savefig('figures/reorder_by_num.png', bbox_inches='tight')"
   ]
  },
  {
   "cell_type": "code",
   "execution_count": null,
   "metadata": {
    "collapsed": false
   },
   "outputs": [
    {
     "name": "stdout",
     "output_type": "stream",
     "text": [
      "2\n"
     ]
    }
   ],
   "source": [
    "fig, ax = plt.subplots(5,2,figsize=(10,8))\n",
    "x = 0\n",
    "y = 0\n",
    "for i in xrange(2,11):\n",
    "    print i\n",
    "    num_order_ids = orders[orders['order_number'] == i]['order_id'].values\n",
    "    reordered_num = pd.DataFrame(order_products__prior[order_products__prior['order_id'].isin(num_order_ids)].groupby('reordered').size()).rename(columns={0: 'count'})\n",
    "    reordered_num['count'] = reordered_num['count']/reordered_num['count'].sum()*100\n",
    "    \n",
    "    reordered_num['count'].plot(kind='bar', ax=ax[x,y])\n",
    "    ax.set_xticklabels(['Not Reordered','Reordered'])\n",
    "    plt.xlabel('')\n",
    "    plt.ylabel('Percent of Products')\n",
    "    plt.title('Order %d'%i)\n",
    "    x += 1\n",
    "    if x == 5:\n",
    "        x = 0\n",
    "        y = 1\n",
    "#plt.savefig('figures/pct_reordered_not1.png',bbox_inches='tight')"
   ]
  },
  {
   "cell_type": "code",
   "execution_count": 115,
   "metadata": {
    "collapsed": false
   },
   "outputs": [
    {
     "data": {
      "text/plain": [
       "(Index([u'order_id', u'product_id', u'add_to_cart_order', u'reordered'], dtype='object'),\n",
       " Index([u'order_id', u'user_id', u'eval_set', u'order_number', u'order_dow',\n",
       "        u'order_hour_of_day', u'days_since_prior_order'],\n",
       "       dtype='object'))"
      ]
     },
     "execution_count": 115,
     "metadata": {},
     "output_type": "execute_result"
    }
   ],
   "source": [
    "order_products__prior.columns, orders.columns"
   ]
  },
  {
   "cell_type": "code",
   "execution_count": 116,
   "metadata": {
    "collapsed": false
   },
   "outputs": [
    {
     "data": {
      "text/html": [
       "<div>\n",
       "<table border=\"1\" class=\"dataframe\">\n",
       "  <thead>\n",
       "    <tr style=\"text-align: right;\">\n",
       "      <th></th>\n",
       "      <th>order_id</th>\n",
       "      <th>product_id</th>\n",
       "      <th>add_to_cart_order</th>\n",
       "      <th>reordered</th>\n",
       "      <th>user_id</th>\n",
       "      <th>eval_set</th>\n",
       "      <th>order_number</th>\n",
       "      <th>order_dow</th>\n",
       "      <th>order_hour_of_day</th>\n",
       "      <th>days_since_prior_order</th>\n",
       "    </tr>\n",
       "  </thead>\n",
       "  <tbody>\n",
       "    <tr>\n",
       "      <th>0</th>\n",
       "      <td>2</td>\n",
       "      <td>33120</td>\n",
       "      <td>1</td>\n",
       "      <td>1</td>\n",
       "      <td>202279</td>\n",
       "      <td>prior</td>\n",
       "      <td>3</td>\n",
       "      <td>5</td>\n",
       "      <td>9</td>\n",
       "      <td>8.0</td>\n",
       "    </tr>\n",
       "    <tr>\n",
       "      <th>1</th>\n",
       "      <td>2</td>\n",
       "      <td>28985</td>\n",
       "      <td>2</td>\n",
       "      <td>1</td>\n",
       "      <td>202279</td>\n",
       "      <td>prior</td>\n",
       "      <td>3</td>\n",
       "      <td>5</td>\n",
       "      <td>9</td>\n",
       "      <td>8.0</td>\n",
       "    </tr>\n",
       "    <tr>\n",
       "      <th>2</th>\n",
       "      <td>2</td>\n",
       "      <td>9327</td>\n",
       "      <td>3</td>\n",
       "      <td>0</td>\n",
       "      <td>202279</td>\n",
       "      <td>prior</td>\n",
       "      <td>3</td>\n",
       "      <td>5</td>\n",
       "      <td>9</td>\n",
       "      <td>8.0</td>\n",
       "    </tr>\n",
       "    <tr>\n",
       "      <th>3</th>\n",
       "      <td>2</td>\n",
       "      <td>45918</td>\n",
       "      <td>4</td>\n",
       "      <td>1</td>\n",
       "      <td>202279</td>\n",
       "      <td>prior</td>\n",
       "      <td>3</td>\n",
       "      <td>5</td>\n",
       "      <td>9</td>\n",
       "      <td>8.0</td>\n",
       "    </tr>\n",
       "    <tr>\n",
       "      <th>4</th>\n",
       "      <td>2</td>\n",
       "      <td>30035</td>\n",
       "      <td>5</td>\n",
       "      <td>0</td>\n",
       "      <td>202279</td>\n",
       "      <td>prior</td>\n",
       "      <td>3</td>\n",
       "      <td>5</td>\n",
       "      <td>9</td>\n",
       "      <td>8.0</td>\n",
       "    </tr>\n",
       "  </tbody>\n",
       "</table>\n",
       "</div>"
      ],
      "text/plain": [
       "   order_id  product_id  add_to_cart_order  reordered  user_id eval_set  \\\n",
       "0         2       33120                  1          1   202279    prior   \n",
       "1         2       28985                  2          1   202279    prior   \n",
       "2         2        9327                  3          0   202279    prior   \n",
       "3         2       45918                  4          1   202279    prior   \n",
       "4         2       30035                  5          0   202279    prior   \n",
       "\n",
       "   order_number  order_dow  order_hour_of_day  days_since_prior_order  \n",
       "0             3          5                  9                     8.0  \n",
       "1             3          5                  9                     8.0  \n",
       "2             3          5                  9                     8.0  \n",
       "3             3          5                  9                     8.0  \n",
       "4             3          5                  9                     8.0  "
      ]
     },
     "execution_count": 116,
     "metadata": {},
     "output_type": "execute_result"
    }
   ],
   "source": [
    "order_products__prior.merge(orders, on='order_id').head()"
   ]
  },
  {
   "cell_type": "markdown",
   "metadata": {},
   "source": [
    "### Popularity of Items Ordered and Reordered\n",
    "\n",
    "Without bayesian smoothing, the items with the highest reorder fraction are ones that aren't order very frequently. With smoothing, a few of the popular items appear in the top 20 fractions and all are items ordered somewhat frequently. I used a relatively small smoothing parameter of 100 considering the most ordered item (Bananas) was ordered over 400,000 times."
   ]
  },
  {
   "cell_type": "code",
   "execution_count": 34,
   "metadata": {
    "collapsed": false
   },
   "outputs": [],
   "source": [
    "item_counts = pd.DataFrame(order_products__prior.groupby('product_id').size(), columns=['count'])\n",
    "item_counts = item_counts.sort_values('count', ascending=False).reset_index()\n",
    "top_20_items = item_counts.loc[:19].merge(products, on='product_id')['product_name'].values"
   ]
  },
  {
   "cell_type": "code",
   "execution_count": 35,
   "metadata": {
    "collapsed": false
   },
   "outputs": [
    {
     "data": {
      "text/plain": [
       "array(['Banana', 'Bag of Organic Bananas', 'Organic Strawberries',\n",
       "       'Organic Baby Spinach', 'Organic Hass Avocado', 'Organic Avocado',\n",
       "       'Large Lemon', 'Strawberries', 'Limes', 'Organic Whole Milk',\n",
       "       'Organic Raspberries', 'Organic Yellow Onion', 'Organic Garlic',\n",
       "       'Organic Zucchini', 'Organic Blueberries', 'Cucumber Kirby',\n",
       "       'Organic Fuji Apple', 'Organic Lemon', 'Apple Honeycrisp Organic',\n",
       "       'Organic Grape Tomatoes'], dtype=object)"
      ]
     },
     "execution_count": 35,
     "metadata": {},
     "output_type": "execute_result"
    }
   ],
   "source": [
    "top_20_items"
   ]
  },
  {
   "cell_type": "code",
   "execution_count": 125,
   "metadata": {
    "collapsed": false
   },
   "outputs": [],
   "source": [
    "reorder_counts = pd.DataFrame(order_products__prior[order_products__prior['reordered'] == 1].groupby('product_id').size(), columns=['count'])\n",
    "reorder_counts = reorder_counts.sort_values('count', ascending=False).reset_index()\n",
    "top_20_reorder = reorder_counts.loc[:19].merge(products, on='product_id')['product_name'].values"
   ]
  },
  {
   "cell_type": "code",
   "execution_count": 151,
   "metadata": {
    "collapsed": false
   },
   "outputs": [
    {
     "data": {
      "text/plain": [
       "array(['Banana', 'Bag of Organic Bananas', 'Organic Strawberries',\n",
       "       'Organic Baby Spinach', 'Organic Hass Avocado', 'Organic Avocado',\n",
       "       'Organic Whole Milk', 'Large Lemon', 'Organic Raspberries',\n",
       "       'Strawberries', 'Limes', 'Organic Yellow Onion', 'Organic Garlic',\n",
       "       'Organic Zucchini', 'Cucumber Kirby', 'Organic Fuji Apple',\n",
       "       'Organic Blueberries', 'Apple Honeycrisp Organic', 'Organic Lemon',\n",
       "       'Organic Half & Half', 'Sparkling Water Grapefruit'], dtype=object)"
      ]
     },
     "execution_count": 151,
     "metadata": {},
     "output_type": "execute_result"
    }
   ],
   "source": [
    "top_20_reorder"
   ]
  },
  {
   "cell_type": "code",
   "execution_count": 36,
   "metadata": {
    "collapsed": false
   },
   "outputs": [],
   "source": [
    "reorder_fraction = pd.DataFrame(order_products__prior.groupby('product_id')['reordered'].mean()).rename(columns={'reordered': 'fraction'})\n",
    "reorder_fraction = reorder_fraction.sort_values('fraction',ascending=False).reset_index()\n",
    "top_20_fractions = reorder_fraction.loc[:19].merge(products, on='product_id')['product_name'].values"
   ]
  },
  {
   "cell_type": "code",
   "execution_count": 37,
   "metadata": {
    "collapsed": false
   },
   "outputs": [
    {
     "data": {
      "text/plain": [
       "array(['Raw Veggie Wrappers', 'Serenity Ultimate Extrema Overnight Pads',\n",
       "       'Orange Energy Shots', 'Chocolate Love Bar',\n",
       "       'Soy Powder Infant Formula', 'Simply Sleep Nighttime Sleep Aid',\n",
       "       'Energy Shot, Grape Flavor',\n",
       "       'Russian River Valley Reserve Pinot Noir', 'Sparking Water',\n",
       "       'Maca Buttercups', 'Bars Peanut Butter',\n",
       "       'Soy Crisps Lightly Salted',\n",
       "       'Jet Fuel Dark Roast Whole Bean Coffee', 'High Gravity Lager',\n",
       "       'Benchbreak Chardonnay', 'Buttery Spray', 'Almond Orgeat Syrup',\n",
       "       'Organic Blueberry B Mega', 'Beer Can', 'Amazake Almond Shake'], dtype=object)"
      ]
     },
     "execution_count": 37,
     "metadata": {},
     "output_type": "execute_result"
    }
   ],
   "source": [
    "top_20_fractions"
   ]
  },
  {
   "cell_type": "code",
   "execution_count": 38,
   "metadata": {
    "collapsed": false
   },
   "outputs": [],
   "source": [
    "reorder_fraction_smooth = pd.DataFrame(order_products__prior.groupby('product_id')['reordered'].apply(lambda x: float(x.sum())/(len(x)+100))).rename(columns={'reordered': 'fraction'})\n",
    "reorder_fraction_smooth = reorder_fraction_smooth.sort_values('fraction',ascending=False).reset_index()\n",
    "top_20_fractions_smooth = reorder_fraction_smooth.loc[:19].merge(products, on='product_id')['product_name'].values"
   ]
  },
  {
   "cell_type": "code",
   "execution_count": 39,
   "metadata": {
    "collapsed": false
   },
   "outputs": [
    {
     "data": {
      "text/plain": [
       "array(['Whole Organic Omega 3 Milk', 'Milk, Organic, Vitamin D',\n",
       "       'Organic Lactose Free Whole Milk', 'Organic Reduced Fat Milk',\n",
       "       'Banana', 'Organic Homogenized Whole Milk',\n",
       "       'Organic Lowfat 1% Milk', 'Goat Milk',\n",
       "       'Half And Half Ultra Pasteurized', 'Organic  Whole Milk',\n",
       "       'Bag of Organic Bananas', 'Organic Milk Reduced Fat, 2% Milkfat',\n",
       "       'Organic Whole Milk', 'Organic Fat Free Milk',\n",
       "       'Organic Low Fat Milk', 'Organic Reduced Fat Omega-3 Milk',\n",
       "       '0% Greek Strained Yogurt', 'Organic Whole Milk with DHA Omega-3',\n",
       "       'Italian Sparkling Mineral Water', 'Spring Water'], dtype=object)"
      ]
     },
     "execution_count": 39,
     "metadata": {},
     "output_type": "execute_result"
    }
   ],
   "source": [
    "top_20_fractions_smooth"
   ]
  },
  {
   "cell_type": "code",
   "execution_count": 182,
   "metadata": {
    "collapsed": false
   },
   "outputs": [
    {
     "data": {
      "text/html": [
       "<div>\n",
       "<table border=\"1\" class=\"dataframe\">\n",
       "  <thead>\n",
       "    <tr style=\"text-align: right;\">\n",
       "      <th></th>\n",
       "      <th>product_id</th>\n",
       "      <th>fraction</th>\n",
       "      <th>count</th>\n",
       "    </tr>\n",
       "  </thead>\n",
       "  <tbody>\n",
       "    <tr>\n",
       "      <th>0</th>\n",
       "      <td>45504</td>\n",
       "      <td>0.850891</td>\n",
       "      <td>9108</td>\n",
       "    </tr>\n",
       "    <tr>\n",
       "      <th>1</th>\n",
       "      <td>29447</td>\n",
       "      <td>0.850133</td>\n",
       "      <td>20198</td>\n",
       "    </tr>\n",
       "    <tr>\n",
       "      <th>2</th>\n",
       "      <td>43394</td>\n",
       "      <td>0.849015</td>\n",
       "      <td>8477</td>\n",
       "    </tr>\n",
       "    <tr>\n",
       "      <th>3</th>\n",
       "      <td>38689</td>\n",
       "      <td>0.848307</td>\n",
       "      <td>35663</td>\n",
       "    </tr>\n",
       "    <tr>\n",
       "      <th>4</th>\n",
       "      <td>24852</td>\n",
       "      <td>0.843322</td>\n",
       "      <td>472565</td>\n",
       "    </tr>\n",
       "    <tr>\n",
       "      <th>5</th>\n",
       "      <td>5514</td>\n",
       "      <td>0.836609</td>\n",
       "      <td>3970</td>\n",
       "    </tr>\n",
       "    <tr>\n",
       "      <th>6</th>\n",
       "      <td>39180</td>\n",
       "      <td>0.834257</td>\n",
       "      <td>14869</td>\n",
       "    </tr>\n",
       "    <tr>\n",
       "      <th>7</th>\n",
       "      <td>34197</td>\n",
       "      <td>0.833869</td>\n",
       "      <td>5185</td>\n",
       "    </tr>\n",
       "    <tr>\n",
       "      <th>8</th>\n",
       "      <td>9292</td>\n",
       "      <td>0.833168</td>\n",
       "      <td>2921</td>\n",
       "    </tr>\n",
       "    <tr>\n",
       "      <th>9</th>\n",
       "      <td>31720</td>\n",
       "      <td>0.832730</td>\n",
       "      <td>9842</td>\n",
       "    </tr>\n",
       "  </tbody>\n",
       "</table>\n",
       "</div>"
      ],
      "text/plain": [
       "   product_id  fraction   count\n",
       "0       45504  0.850891    9108\n",
       "1       29447  0.850133   20198\n",
       "2       43394  0.849015    8477\n",
       "3       38689  0.848307   35663\n",
       "4       24852  0.843322  472565\n",
       "5        5514  0.836609    3970\n",
       "6       39180  0.834257   14869\n",
       "7       34197  0.833869    5185\n",
       "8        9292  0.833168    2921\n",
       "9       31720  0.832730    9842"
      ]
     },
     "execution_count": 182,
     "metadata": {},
     "output_type": "execute_result"
    }
   ],
   "source": [
    "reorder_fraction_smooth.merge(item_counts, on='product_id').head(10)"
   ]
  },
  {
   "cell_type": "code",
   "execution_count": 183,
   "metadata": {
    "collapsed": false
   },
   "outputs": [
    {
     "data": {
      "text/html": [
       "<div>\n",
       "<table border=\"1\" class=\"dataframe\">\n",
       "  <thead>\n",
       "    <tr style=\"text-align: right;\">\n",
       "      <th></th>\n",
       "      <th>product_id</th>\n",
       "      <th>fraction</th>\n",
       "      <th>count</th>\n",
       "    </tr>\n",
       "  </thead>\n",
       "  <tbody>\n",
       "    <tr>\n",
       "      <th>0</th>\n",
       "      <td>6433</td>\n",
       "      <td>0.941176</td>\n",
       "      <td>68</td>\n",
       "    </tr>\n",
       "    <tr>\n",
       "      <th>1</th>\n",
       "      <td>2075</td>\n",
       "      <td>0.931034</td>\n",
       "      <td>87</td>\n",
       "    </tr>\n",
       "    <tr>\n",
       "      <th>2</th>\n",
       "      <td>43553</td>\n",
       "      <td>0.923077</td>\n",
       "      <td>13</td>\n",
       "    </tr>\n",
       "    <tr>\n",
       "      <th>3</th>\n",
       "      <td>27740</td>\n",
       "      <td>0.920792</td>\n",
       "      <td>101</td>\n",
       "    </tr>\n",
       "    <tr>\n",
       "      <th>4</th>\n",
       "      <td>14609</td>\n",
       "      <td>0.914286</td>\n",
       "      <td>35</td>\n",
       "    </tr>\n",
       "    <tr>\n",
       "      <th>5</th>\n",
       "      <td>13875</td>\n",
       "      <td>0.911111</td>\n",
       "      <td>45</td>\n",
       "    </tr>\n",
       "    <tr>\n",
       "      <th>6</th>\n",
       "      <td>39992</td>\n",
       "      <td>0.909091</td>\n",
       "      <td>22</td>\n",
       "    </tr>\n",
       "    <tr>\n",
       "      <th>7</th>\n",
       "      <td>5868</td>\n",
       "      <td>0.900000</td>\n",
       "      <td>30</td>\n",
       "    </tr>\n",
       "    <tr>\n",
       "      <th>8</th>\n",
       "      <td>31418</td>\n",
       "      <td>0.900000</td>\n",
       "      <td>60</td>\n",
       "    </tr>\n",
       "    <tr>\n",
       "      <th>9</th>\n",
       "      <td>35604</td>\n",
       "      <td>0.900000</td>\n",
       "      <td>100</td>\n",
       "    </tr>\n",
       "  </tbody>\n",
       "</table>\n",
       "</div>"
      ],
      "text/plain": [
       "   product_id  fraction  count\n",
       "0        6433  0.941176     68\n",
       "1        2075  0.931034     87\n",
       "2       43553  0.923077     13\n",
       "3       27740  0.920792    101\n",
       "4       14609  0.914286     35\n",
       "5       13875  0.911111     45\n",
       "6       39992  0.909091     22\n",
       "7        5868  0.900000     30\n",
       "8       31418  0.900000     60\n",
       "9       35604  0.900000    100"
      ]
     },
     "execution_count": 183,
     "metadata": {},
     "output_type": "execute_result"
    }
   ],
   "source": [
    "reorder_fraction.merge(item_counts, on='product_id').head(10)"
   ]
  },
  {
   "cell_type": "code",
   "execution_count": 188,
   "metadata": {
    "collapsed": false
   },
   "outputs": [
    {
     "data": {
      "text/html": [
       "<div>\n",
       "<table border=\"1\" class=\"dataframe\">\n",
       "  <thead>\n",
       "    <tr style=\"text-align: right;\">\n",
       "      <th></th>\n",
       "      <th>product_id</th>\n",
       "      <th>count</th>\n",
       "    </tr>\n",
       "  </thead>\n",
       "  <tbody>\n",
       "    <tr>\n",
       "      <th>0</th>\n",
       "      <td>24852</td>\n",
       "      <td>472565</td>\n",
       "    </tr>\n",
       "    <tr>\n",
       "      <th>1</th>\n",
       "      <td>13176</td>\n",
       "      <td>379450</td>\n",
       "    </tr>\n",
       "    <tr>\n",
       "      <th>2</th>\n",
       "      <td>21137</td>\n",
       "      <td>264683</td>\n",
       "    </tr>\n",
       "    <tr>\n",
       "      <th>3</th>\n",
       "      <td>21903</td>\n",
       "      <td>241921</td>\n",
       "    </tr>\n",
       "    <tr>\n",
       "      <th>4</th>\n",
       "      <td>47209</td>\n",
       "      <td>213584</td>\n",
       "    </tr>\n",
       "  </tbody>\n",
       "</table>\n",
       "</div>"
      ],
      "text/plain": [
       "   product_id   count\n",
       "0       24852  472565\n",
       "1       13176  379450\n",
       "2       21137  264683\n",
       "3       21903  241921\n",
       "4       47209  213584"
      ]
     },
     "execution_count": 188,
     "metadata": {},
     "output_type": "execute_result"
    }
   ],
   "source": [
    "item_counts.head()"
   ]
  },
  {
   "cell_type": "markdown",
   "metadata": {},
   "source": [
    "### Reorder Category\n",
    "\n",
    "How often is a new item from the same category as previous item?"
   ]
  },
  {
   "cell_type": "code",
   "execution_count": 198,
   "metadata": {
    "collapsed": false
   },
   "outputs": [],
   "source": [
    "order_products_details = order_products__prior.merge(products, on='product_id').merge(orders, on='order_id')"
   ]
  },
  {
   "cell_type": "code",
   "execution_count": 258,
   "metadata": {
    "collapsed": true
   },
   "outputs": [],
   "source": [
    "order_products_train_details = order_products__train.merge(products, on='product_id').merge(orders, on='order_id')"
   ]
  },
  {
   "cell_type": "code",
   "execution_count": 199,
   "metadata": {
    "collapsed": false
   },
   "outputs": [
    {
     "data": {
      "text/html": [
       "<div>\n",
       "<table border=\"1\" class=\"dataframe\">\n",
       "  <thead>\n",
       "    <tr style=\"text-align: right;\">\n",
       "      <th></th>\n",
       "      <th>order_id</th>\n",
       "      <th>product_id</th>\n",
       "      <th>add_to_cart_order</th>\n",
       "      <th>reordered</th>\n",
       "      <th>product_name</th>\n",
       "      <th>aisle_id</th>\n",
       "      <th>department_id</th>\n",
       "      <th>user_id</th>\n",
       "      <th>eval_set</th>\n",
       "      <th>order_number</th>\n",
       "      <th>order_dow</th>\n",
       "      <th>order_hour_of_day</th>\n",
       "      <th>days_since_prior_order</th>\n",
       "    </tr>\n",
       "  </thead>\n",
       "  <tbody>\n",
       "    <tr>\n",
       "      <th>0</th>\n",
       "      <td>2</td>\n",
       "      <td>33120</td>\n",
       "      <td>1</td>\n",
       "      <td>1</td>\n",
       "      <td>Organic Egg Whites</td>\n",
       "      <td>86</td>\n",
       "      <td>16</td>\n",
       "      <td>202279</td>\n",
       "      <td>prior</td>\n",
       "      <td>3</td>\n",
       "      <td>5</td>\n",
       "      <td>9</td>\n",
       "      <td>8.0</td>\n",
       "    </tr>\n",
       "    <tr>\n",
       "      <th>1</th>\n",
       "      <td>2</td>\n",
       "      <td>28985</td>\n",
       "      <td>2</td>\n",
       "      <td>1</td>\n",
       "      <td>Michigan Organic Kale</td>\n",
       "      <td>83</td>\n",
       "      <td>4</td>\n",
       "      <td>202279</td>\n",
       "      <td>prior</td>\n",
       "      <td>3</td>\n",
       "      <td>5</td>\n",
       "      <td>9</td>\n",
       "      <td>8.0</td>\n",
       "    </tr>\n",
       "    <tr>\n",
       "      <th>2</th>\n",
       "      <td>2</td>\n",
       "      <td>9327</td>\n",
       "      <td>3</td>\n",
       "      <td>0</td>\n",
       "      <td>Garlic Powder</td>\n",
       "      <td>104</td>\n",
       "      <td>13</td>\n",
       "      <td>202279</td>\n",
       "      <td>prior</td>\n",
       "      <td>3</td>\n",
       "      <td>5</td>\n",
       "      <td>9</td>\n",
       "      <td>8.0</td>\n",
       "    </tr>\n",
       "    <tr>\n",
       "      <th>3</th>\n",
       "      <td>2</td>\n",
       "      <td>45918</td>\n",
       "      <td>4</td>\n",
       "      <td>1</td>\n",
       "      <td>Coconut Butter</td>\n",
       "      <td>19</td>\n",
       "      <td>13</td>\n",
       "      <td>202279</td>\n",
       "      <td>prior</td>\n",
       "      <td>3</td>\n",
       "      <td>5</td>\n",
       "      <td>9</td>\n",
       "      <td>8.0</td>\n",
       "    </tr>\n",
       "    <tr>\n",
       "      <th>4</th>\n",
       "      <td>2</td>\n",
       "      <td>30035</td>\n",
       "      <td>5</td>\n",
       "      <td>0</td>\n",
       "      <td>Natural Sweetener</td>\n",
       "      <td>17</td>\n",
       "      <td>13</td>\n",
       "      <td>202279</td>\n",
       "      <td>prior</td>\n",
       "      <td>3</td>\n",
       "      <td>5</td>\n",
       "      <td>9</td>\n",
       "      <td>8.0</td>\n",
       "    </tr>\n",
       "  </tbody>\n",
       "</table>\n",
       "</div>"
      ],
      "text/plain": [
       "   order_id  product_id  add_to_cart_order  reordered           product_name  \\\n",
       "0         2       33120                  1          1     Organic Egg Whites   \n",
       "1         2       28985                  2          1  Michigan Organic Kale   \n",
       "2         2        9327                  3          0          Garlic Powder   \n",
       "3         2       45918                  4          1         Coconut Butter   \n",
       "4         2       30035                  5          0      Natural Sweetener   \n",
       "\n",
       "   aisle_id  department_id  user_id eval_set  order_number  order_dow  \\\n",
       "0        86             16   202279    prior             3          5   \n",
       "1        83              4   202279    prior             3          5   \n",
       "2       104             13   202279    prior             3          5   \n",
       "3        19             13   202279    prior             3          5   \n",
       "4        17             13   202279    prior             3          5   \n",
       "\n",
       "   order_hour_of_day  days_since_prior_order  \n",
       "0                  9                     8.0  \n",
       "1                  9                     8.0  \n",
       "2                  9                     8.0  \n",
       "3                  9                     8.0  \n",
       "4                  9                     8.0  "
      ]
     },
     "execution_count": 199,
     "metadata": {},
     "output_type": "execute_result"
    }
   ],
   "source": [
    "order_products_details.head()"
   ]
  },
  {
   "cell_type": "code",
   "execution_count": 203,
   "metadata": {
    "collapsed": false
   },
   "outputs": [
    {
     "data": {
      "text/plain": [
       "order_number  department_id\n",
       "1             7                1\n",
       "              16               1\n",
       "              17               1\n",
       "              19               2\n",
       "2             4                1\n",
       "              7                1\n",
       "              14               1\n",
       "              19               3\n",
       "3             7                1\n",
       "              13               1\n",
       "              16               1\n",
       "              19               2\n",
       "4             7                1\n",
       "              16               1\n",
       "              17               1\n",
       "              19               2\n",
       "5             4                4\n",
       "              7                1\n",
       "              16               1\n",
       "              19               2\n",
       "6             7                1\n",
       "              16               1\n",
       "              19               2\n",
       "7             7                1\n",
       "              14               1\n",
       "              16               1\n",
       "              19               2\n",
       "8             7                2\n",
       "              16               2\n",
       "              19               2\n",
       "9             7                2\n",
       "              16               2\n",
       "              19               2\n",
       "10            7                2\n",
       "              14               1\n",
       "              16               3\n",
       "              19               3\n",
       "dtype: int64"
      ]
     },
     "execution_count": 203,
     "metadata": {},
     "output_type": "execute_result"
    }
   ],
   "source": [
    "order_products_details[(order_products_details['user_id'] == 1) & (order_products_details['reordered'] == 0)]#.groupby(['order_number','department_id']).size()"
   ]
  },
  {
   "cell_type": "code",
   "execution_count": 205,
   "metadata": {
    "collapsed": false
   },
   "outputs": [
    {
     "data": {
      "text/html": [
       "<div>\n",
       "<table border=\"1\" class=\"dataframe\">\n",
       "  <thead>\n",
       "    <tr style=\"text-align: right;\">\n",
       "      <th></th>\n",
       "      <th>order_id</th>\n",
       "      <th>product_id</th>\n",
       "      <th>add_to_cart_order</th>\n",
       "      <th>reordered</th>\n",
       "      <th>product_name</th>\n",
       "      <th>aisle_id</th>\n",
       "      <th>department_id</th>\n",
       "      <th>user_id</th>\n",
       "      <th>eval_set</th>\n",
       "      <th>order_number</th>\n",
       "      <th>order_dow</th>\n",
       "      <th>order_hour_of_day</th>\n",
       "      <th>days_since_prior_order</th>\n",
       "    </tr>\n",
       "  </thead>\n",
       "  <tbody>\n",
       "    <tr>\n",
       "      <th>22667637</th>\n",
       "      <td>2539329</td>\n",
       "      <td>26405</td>\n",
       "      <td>5</td>\n",
       "      <td>0</td>\n",
       "      <td>XL Pick-A-Size Paper Towel Rolls</td>\n",
       "      <td>54</td>\n",
       "      <td>17</td>\n",
       "      <td>1</td>\n",
       "      <td>prior</td>\n",
       "      <td>1</td>\n",
       "      <td>2</td>\n",
       "      <td>8</td>\n",
       "      <td>NaN</td>\n",
       "    </tr>\n",
       "    <tr>\n",
       "      <th>22667636</th>\n",
       "      <td>2539329</td>\n",
       "      <td>12427</td>\n",
       "      <td>3</td>\n",
       "      <td>0</td>\n",
       "      <td>Original Beef Jerky</td>\n",
       "      <td>23</td>\n",
       "      <td>19</td>\n",
       "      <td>1</td>\n",
       "      <td>prior</td>\n",
       "      <td>1</td>\n",
       "      <td>2</td>\n",
       "      <td>8</td>\n",
       "      <td>NaN</td>\n",
       "    </tr>\n",
       "    <tr>\n",
       "      <th>22667635</th>\n",
       "      <td>2539329</td>\n",
       "      <td>26088</td>\n",
       "      <td>4</td>\n",
       "      <td>0</td>\n",
       "      <td>Aged White Cheddar Popcorn</td>\n",
       "      <td>23</td>\n",
       "      <td>19</td>\n",
       "      <td>1</td>\n",
       "      <td>prior</td>\n",
       "      <td>1</td>\n",
       "      <td>2</td>\n",
       "      <td>8</td>\n",
       "      <td>NaN</td>\n",
       "    </tr>\n",
       "    <tr>\n",
       "      <th>22667634</th>\n",
       "      <td>2539329</td>\n",
       "      <td>14084</td>\n",
       "      <td>2</td>\n",
       "      <td>0</td>\n",
       "      <td>Organic Unsweetened Vanilla Almond Milk</td>\n",
       "      <td>91</td>\n",
       "      <td>16</td>\n",
       "      <td>1</td>\n",
       "      <td>prior</td>\n",
       "      <td>1</td>\n",
       "      <td>2</td>\n",
       "      <td>8</td>\n",
       "      <td>NaN</td>\n",
       "    </tr>\n",
       "    <tr>\n",
       "      <th>22667633</th>\n",
       "      <td>2539329</td>\n",
       "      <td>196</td>\n",
       "      <td>1</td>\n",
       "      <td>0</td>\n",
       "      <td>Soda</td>\n",
       "      <td>77</td>\n",
       "      <td>7</td>\n",
       "      <td>1</td>\n",
       "      <td>prior</td>\n",
       "      <td>1</td>\n",
       "      <td>2</td>\n",
       "      <td>8</td>\n",
       "      <td>NaN</td>\n",
       "    </tr>\n",
       "    <tr>\n",
       "      <th>10549932</th>\n",
       "      <td>2398795</td>\n",
       "      <td>13176</td>\n",
       "      <td>4</td>\n",
       "      <td>0</td>\n",
       "      <td>Bag of Organic Bananas</td>\n",
       "      <td>24</td>\n",
       "      <td>4</td>\n",
       "      <td>1</td>\n",
       "      <td>prior</td>\n",
       "      <td>2</td>\n",
       "      <td>3</td>\n",
       "      <td>7</td>\n",
       "      <td>15.0</td>\n",
       "    </tr>\n",
       "    <tr>\n",
       "      <th>10549934</th>\n",
       "      <td>2398795</td>\n",
       "      <td>13032</td>\n",
       "      <td>6</td>\n",
       "      <td>0</td>\n",
       "      <td>Cinnamon Toast Crunch</td>\n",
       "      <td>121</td>\n",
       "      <td>14</td>\n",
       "      <td>1</td>\n",
       "      <td>prior</td>\n",
       "      <td>2</td>\n",
       "      <td>3</td>\n",
       "      <td>7</td>\n",
       "      <td>15.0</td>\n",
       "    </tr>\n",
       "    <tr>\n",
       "      <th>10549936</th>\n",
       "      <td>2398795</td>\n",
       "      <td>10258</td>\n",
       "      <td>2</td>\n",
       "      <td>0</td>\n",
       "      <td>Pistachios</td>\n",
       "      <td>117</td>\n",
       "      <td>19</td>\n",
       "      <td>1</td>\n",
       "      <td>prior</td>\n",
       "      <td>2</td>\n",
       "      <td>3</td>\n",
       "      <td>7</td>\n",
       "      <td>15.0</td>\n",
       "    </tr>\n",
       "    <tr>\n",
       "      <th>22586601</th>\n",
       "      <td>473747</td>\n",
       "      <td>30450</td>\n",
       "      <td>5</td>\n",
       "      <td>0</td>\n",
       "      <td>Creamy Almond Butter</td>\n",
       "      <td>88</td>\n",
       "      <td>13</td>\n",
       "      <td>1</td>\n",
       "      <td>prior</td>\n",
       "      <td>3</td>\n",
       "      <td>3</td>\n",
       "      <td>12</td>\n",
       "      <td>21.0</td>\n",
       "    </tr>\n",
       "    <tr>\n",
       "      <th>22586603</th>\n",
       "      <td>473747</td>\n",
       "      <td>25133</td>\n",
       "      <td>4</td>\n",
       "      <td>0</td>\n",
       "      <td>Organic String Cheese</td>\n",
       "      <td>21</td>\n",
       "      <td>16</td>\n",
       "      <td>1</td>\n",
       "      <td>prior</td>\n",
       "      <td>3</td>\n",
       "      <td>3</td>\n",
       "      <td>12</td>\n",
       "      <td>21.0</td>\n",
       "    </tr>\n",
       "    <tr>\n",
       "      <th>8552223</th>\n",
       "      <td>431534</td>\n",
       "      <td>41787</td>\n",
       "      <td>7</td>\n",
       "      <td>0</td>\n",
       "      <td>Bartlett Pears</td>\n",
       "      <td>24</td>\n",
       "      <td>4</td>\n",
       "      <td>1</td>\n",
       "      <td>prior</td>\n",
       "      <td>5</td>\n",
       "      <td>4</td>\n",
       "      <td>15</td>\n",
       "      <td>28.0</td>\n",
       "    </tr>\n",
       "    <tr>\n",
       "      <th>8552225</th>\n",
       "      <td>431534</td>\n",
       "      <td>10326</td>\n",
       "      <td>5</td>\n",
       "      <td>0</td>\n",
       "      <td>Organic Fuji Apples</td>\n",
       "      <td>24</td>\n",
       "      <td>4</td>\n",
       "      <td>1</td>\n",
       "      <td>prior</td>\n",
       "      <td>5</td>\n",
       "      <td>4</td>\n",
       "      <td>15</td>\n",
       "      <td>28.0</td>\n",
       "    </tr>\n",
       "    <tr>\n",
       "      <th>8552224</th>\n",
       "      <td>431534</td>\n",
       "      <td>17122</td>\n",
       "      <td>6</td>\n",
       "      <td>0</td>\n",
       "      <td>Honeycrisp Apples</td>\n",
       "      <td>24</td>\n",
       "      <td>4</td>\n",
       "      <td>1</td>\n",
       "      <td>prior</td>\n",
       "      <td>5</td>\n",
       "      <td>4</td>\n",
       "      <td>15</td>\n",
       "      <td>28.0</td>\n",
       "    </tr>\n",
       "    <tr>\n",
       "      <th>22257693</th>\n",
       "      <td>3108588</td>\n",
       "      <td>46149</td>\n",
       "      <td>5</td>\n",
       "      <td>0</td>\n",
       "      <td>Zero Calorie Cola</td>\n",
       "      <td>77</td>\n",
       "      <td>7</td>\n",
       "      <td>1</td>\n",
       "      <td>prior</td>\n",
       "      <td>8</td>\n",
       "      <td>1</td>\n",
       "      <td>14</td>\n",
       "      <td>14.0</td>\n",
       "    </tr>\n",
       "    <tr>\n",
       "      <th>22257689</th>\n",
       "      <td>3108588</td>\n",
       "      <td>49235</td>\n",
       "      <td>6</td>\n",
       "      <td>0</td>\n",
       "      <td>Organic Half &amp; Half</td>\n",
       "      <td>53</td>\n",
       "      <td>16</td>\n",
       "      <td>1</td>\n",
       "      <td>prior</td>\n",
       "      <td>8</td>\n",
       "      <td>1</td>\n",
       "      <td>14</td>\n",
       "      <td>14.0</td>\n",
       "    </tr>\n",
       "    <tr>\n",
       "      <th>22668050</th>\n",
       "      <td>2550362</td>\n",
       "      <td>35951</td>\n",
       "      <td>7</td>\n",
       "      <td>0</td>\n",
       "      <td>Organic Unsweetened Almond Milk</td>\n",
       "      <td>91</td>\n",
       "      <td>16</td>\n",
       "      <td>1</td>\n",
       "      <td>prior</td>\n",
       "      <td>10</td>\n",
       "      <td>4</td>\n",
       "      <td>8</td>\n",
       "      <td>30.0</td>\n",
       "    </tr>\n",
       "    <tr>\n",
       "      <th>22668051</th>\n",
       "      <td>2550362</td>\n",
       "      <td>38928</td>\n",
       "      <td>4</td>\n",
       "      <td>0</td>\n",
       "      <td>0% Greek Strained Yogurt</td>\n",
       "      <td>120</td>\n",
       "      <td>16</td>\n",
       "      <td>1</td>\n",
       "      <td>prior</td>\n",
       "      <td>10</td>\n",
       "      <td>4</td>\n",
       "      <td>8</td>\n",
       "      <td>30.0</td>\n",
       "    </tr>\n",
       "    <tr>\n",
       "      <th>22668057</th>\n",
       "      <td>2550362</td>\n",
       "      <td>39657</td>\n",
       "      <td>3</td>\n",
       "      <td>0</td>\n",
       "      <td>Milk Chocolate Almonds</td>\n",
       "      <td>45</td>\n",
       "      <td>19</td>\n",
       "      <td>1</td>\n",
       "      <td>prior</td>\n",
       "      <td>10</td>\n",
       "      <td>4</td>\n",
       "      <td>8</td>\n",
       "      <td>30.0</td>\n",
       "    </tr>\n",
       "  </tbody>\n",
       "</table>\n",
       "</div>"
      ],
      "text/plain": [
       "          order_id  product_id  add_to_cart_order  reordered  \\\n",
       "22667637   2539329       26405                  5          0   \n",
       "22667636   2539329       12427                  3          0   \n",
       "22667635   2539329       26088                  4          0   \n",
       "22667634   2539329       14084                  2          0   \n",
       "22667633   2539329         196                  1          0   \n",
       "10549932   2398795       13176                  4          0   \n",
       "10549934   2398795       13032                  6          0   \n",
       "10549936   2398795       10258                  2          0   \n",
       "22586601    473747       30450                  5          0   \n",
       "22586603    473747       25133                  4          0   \n",
       "8552223     431534       41787                  7          0   \n",
       "8552225     431534       10326                  5          0   \n",
       "8552224     431534       17122                  6          0   \n",
       "22257693   3108588       46149                  5          0   \n",
       "22257689   3108588       49235                  6          0   \n",
       "22668050   2550362       35951                  7          0   \n",
       "22668051   2550362       38928                  4          0   \n",
       "22668057   2550362       39657                  3          0   \n",
       "\n",
       "                                     product_name  aisle_id  department_id  \\\n",
       "22667637         XL Pick-A-Size Paper Towel Rolls        54             17   \n",
       "22667636                      Original Beef Jerky        23             19   \n",
       "22667635               Aged White Cheddar Popcorn        23             19   \n",
       "22667634  Organic Unsweetened Vanilla Almond Milk        91             16   \n",
       "22667633                                     Soda        77              7   \n",
       "10549932                   Bag of Organic Bananas        24              4   \n",
       "10549934                    Cinnamon Toast Crunch       121             14   \n",
       "10549936                               Pistachios       117             19   \n",
       "22586601                     Creamy Almond Butter        88             13   \n",
       "22586603                    Organic String Cheese        21             16   \n",
       "8552223                            Bartlett Pears        24              4   \n",
       "8552225                       Organic Fuji Apples        24              4   \n",
       "8552224                         Honeycrisp Apples        24              4   \n",
       "22257693                        Zero Calorie Cola        77              7   \n",
       "22257689                      Organic Half & Half        53             16   \n",
       "22668050          Organic Unsweetened Almond Milk        91             16   \n",
       "22668051                 0% Greek Strained Yogurt       120             16   \n",
       "22668057                   Milk Chocolate Almonds        45             19   \n",
       "\n",
       "          user_id eval_set  order_number  order_dow  order_hour_of_day  \\\n",
       "22667637        1    prior             1          2                  8   \n",
       "22667636        1    prior             1          2                  8   \n",
       "22667635        1    prior             1          2                  8   \n",
       "22667634        1    prior             1          2                  8   \n",
       "22667633        1    prior             1          2                  8   \n",
       "10549932        1    prior             2          3                  7   \n",
       "10549934        1    prior             2          3                  7   \n",
       "10549936        1    prior             2          3                  7   \n",
       "22586601        1    prior             3          3                 12   \n",
       "22586603        1    prior             3          3                 12   \n",
       "8552223         1    prior             5          4                 15   \n",
       "8552225         1    prior             5          4                 15   \n",
       "8552224         1    prior             5          4                 15   \n",
       "22257693        1    prior             8          1                 14   \n",
       "22257689        1    prior             8          1                 14   \n",
       "22668050        1    prior            10          4                  8   \n",
       "22668051        1    prior            10          4                  8   \n",
       "22668057        1    prior            10          4                  8   \n",
       "\n",
       "          days_since_prior_order  \n",
       "22667637                     NaN  \n",
       "22667636                     NaN  \n",
       "22667635                     NaN  \n",
       "22667634                     NaN  \n",
       "22667633                     NaN  \n",
       "10549932                    15.0  \n",
       "10549934                    15.0  \n",
       "10549936                    15.0  \n",
       "22586601                    21.0  \n",
       "22586603                    21.0  \n",
       "8552223                     28.0  \n",
       "8552225                     28.0  \n",
       "8552224                     28.0  \n",
       "22257693                    14.0  \n",
       "22257689                    14.0  \n",
       "22668050                    30.0  \n",
       "22668051                    30.0  \n",
       "22668057                    30.0  "
      ]
     },
     "execution_count": 205,
     "metadata": {},
     "output_type": "execute_result"
    }
   ],
   "source": [
    "order_products_details[(order_products_details['user_id'] == 1) & (order_products_details['reordered'] == 0)].sort_values('order_number')"
   ]
  },
  {
   "cell_type": "code",
   "execution_count": null,
   "metadata": {
    "collapsed": true
   },
   "outputs": [],
   "source": []
  },
  {
   "cell_type": "code",
   "execution_count": null,
   "metadata": {
    "collapsed": true
   },
   "outputs": [],
   "source": [
    "order_products__prior.groupby('eval_set')"
   ]
  },
  {
   "cell_type": "code",
   "execution_count": null,
   "metadata": {
    "collapsed": true
   },
   "outputs": [],
   "source": []
  },
  {
   "cell_type": "markdown",
   "metadata": {},
   "source": [
    "### Reorder pct vs # of days since last order"
   ]
  },
  {
   "cell_type": "code",
   "execution_count": 324,
   "metadata": {
    "collapsed": false
   },
   "outputs": [],
   "source": [
    "reorder_pct = order_products_details.groupby('order_id')['reordered'].mean()*100\n",
    "reorder_pct = pd.DataFrame(reorder_pct).join(orders[['order_id','days_since_prior_order']].set_index('order_id'))"
   ]
  },
  {
   "cell_type": "code",
   "execution_count": 334,
   "metadata": {
    "collapsed": false
   },
   "outputs": [
    {
     "data": {
      "text/plain": [
       "<matplotlib.axes._subplots.AxesSubplot at 0x20a1ecb90>"
      ]
     },
     "execution_count": 334,
     "metadata": {},
     "output_type": "execute_result"
    },
    {
     "data": {
      "image/png": "[encoded data removed]",
      "text/plain": [
       "<matplotlib.figure.Figure at 0x20610e5d0>"
      ]
     },
     "metadata": {},
     "output_type": "display_data"
    }
   ],
   "source": [
    "rand_inds = np.random.permutation(reorder_pct.index)[:10000]\n",
    "reorder_pct.loc[rand_inds].plot(x='reordered',y='days_since_prior_order', kind='scatter', alpha=0.1)"
   ]
  },
  {
   "cell_type": "code",
   "execution_count": 338,
   "metadata": {
    "collapsed": false
   },
   "outputs": [
    {
     "data": {
      "text/plain": [
       "<matplotlib.axes._subplots.AxesSubplot at 0x169863a90>"
      ]
     },
     "execution_count": 338,
     "metadata": {},
     "output_type": "execute_result"
    },
    {
     "data": {
      "image/png": "[encoded data removed]",
      "text/plain": [
       "<matplotlib.figure.Figure at 0x1a0a8cc10>"
      ]
     },
     "metadata": {},
     "output_type": "display_data"
    }
   ],
   "source": [
    "reorder_pct.groupby('days_since_prior_order')['reordered'].mean().plot(kind='bar')"
   ]
  },
  {
   "cell_type": "code",
   "execution_count": null,
   "metadata": {
    "collapsed": true
   },
   "outputs": [],
   "source": []
  },
  {
   "cell_type": "markdown",
   "metadata": {},
   "source": [
    "### Models"
   ]
  },
  {
   "cell_type": "code",
   "execution_count": 288,
   "metadata": {
    "collapsed": false
   },
   "outputs": [],
   "source": [
    "test_users = orders[orders['eval_set'] == 'test']['user_id'].values\n",
    "test_users_order_details = order_products_details[order_products_details['user_id'].isin(test_users)]"
   ]
  },
  {
   "cell_type": "code",
   "execution_count": 233,
   "metadata": {
    "collapsed": false
   },
   "outputs": [],
   "source": [
    "#get every item a user has ordered\n",
    "user_items = {}\n",
    "grouped = order_products_details.groupby('user_id')\n",
    "for group in grouped:\n",
    "    user_items[group[0]] = set(group[1]['product_id'].values)"
   ]
  },
  {
   "cell_type": "code",
   "execution_count": 240,
   "metadata": {
    "collapsed": false
   },
   "outputs": [],
   "source": [
    "user_order_size = {}\n",
    "for group in grouped:\n",
    "    user_order_size[group[0]] = np.mean(group[1].groupby('order_number').size().values)"
   ]
  },
  {
   "cell_type": "code",
   "execution_count": 269,
   "metadata": {
    "collapsed": false
   },
   "outputs": [],
   "source": [
    "user_items_test = {}\n",
    "for user in sorted(orders[orders['eval_set'] == 'test']['user_id'].values):\n",
    "    user_items_test[user] = ' '.join(map(str,user_items[user]))"
   ]
  },
  {
   "cell_type": "code",
   "execution_count": 270,
   "metadata": {
    "collapsed": true
   },
   "outputs": [],
   "source": [
    "test_set = orders[orders['eval_set'] == 'test']"
   ]
  },
  {
   "cell_type": "code",
   "execution_count": 273,
   "metadata": {
    "collapsed": false
   },
   "outputs": [
    {
     "name": "stderr",
     "output_type": "stream",
     "text": [
      "/Users/clairemiller/anaconda/lib/python2.7/site-packages/ipykernel/__main__.py:1: SettingWithCopyWarning: \n",
      "A value is trying to be set on a copy of a slice from a DataFrame.\n",
      "Try using .loc[row_indexer,col_indexer] = value instead\n",
      "\n",
      "See the caveats in the documentation: http://pandas.pydata.org/pandas-docs/stable/indexing.html#indexing-view-versus-copy\n",
      "  if __name__ == '__main__':\n"
     ]
    }
   ],
   "source": [
    "test_set['products'] = test_set['user_id'].map(user_items_test)"
   ]
  },
  {
   "cell_type": "code",
   "execution_count": 275,
   "metadata": {
    "collapsed": false
   },
   "outputs": [],
   "source": [
    "#all items ever orders\n",
    "#score = 0.2164845\n",
    "test_set[['order_id','products']].to_csv('all_items.csv',index=False)"
   ]
  },
  {
   "cell_type": "code",
   "execution_count": null,
   "metadata": {
    "collapsed": true
   },
   "outputs": [],
   "source": []
  },
  {
   "cell_type": "code",
   "execution_count": 300,
   "metadata": {
    "collapsed": false
   },
   "outputs": [
    {
     "data": {
      "text/html": [
       "<div>\n",
       "<table border=\"1\" class=\"dataframe\">\n",
       "  <thead>\n",
       "    <tr style=\"text-align: right;\">\n",
       "      <th></th>\n",
       "      <th>order_id</th>\n",
       "      <th>product_id</th>\n",
       "      <th>add_to_cart_order</th>\n",
       "      <th>reordered</th>\n",
       "      <th>product_name</th>\n",
       "      <th>aisle_id</th>\n",
       "      <th>department_id</th>\n",
       "      <th>user_id</th>\n",
       "      <th>eval_set</th>\n",
       "      <th>order_number</th>\n",
       "      <th>order_dow</th>\n",
       "      <th>order_hour_of_day</th>\n",
       "      <th>days_since_prior_order</th>\n",
       "    </tr>\n",
       "  </thead>\n",
       "  <tbody>\n",
       "    <tr>\n",
       "      <th>17</th>\n",
       "      <td>120</td>\n",
       "      <td>33120</td>\n",
       "      <td>13</td>\n",
       "      <td>0</td>\n",
       "      <td>Organic Egg Whites</td>\n",
       "      <td>86</td>\n",
       "      <td>16</td>\n",
       "      <td>23750</td>\n",
       "      <td>prior</td>\n",
       "      <td>11</td>\n",
       "      <td>6</td>\n",
       "      <td>8</td>\n",
       "      <td>10.0</td>\n",
       "    </tr>\n",
       "    <tr>\n",
       "      <th>18</th>\n",
       "      <td>120</td>\n",
       "      <td>41273</td>\n",
       "      <td>4</td>\n",
       "      <td>0</td>\n",
       "      <td>Broccoli Florets</td>\n",
       "      <td>123</td>\n",
       "      <td>4</td>\n",
       "      <td>23750</td>\n",
       "      <td>prior</td>\n",
       "      <td>11</td>\n",
       "      <td>6</td>\n",
       "      <td>8</td>\n",
       "      <td>10.0</td>\n",
       "    </tr>\n",
       "    <tr>\n",
       "      <th>19</th>\n",
       "      <td>120</td>\n",
       "      <td>40545</td>\n",
       "      <td>1</td>\n",
       "      <td>0</td>\n",
       "      <td>Berry Medley</td>\n",
       "      <td>116</td>\n",
       "      <td>1</td>\n",
       "      <td>23750</td>\n",
       "      <td>prior</td>\n",
       "      <td>11</td>\n",
       "      <td>6</td>\n",
       "      <td>8</td>\n",
       "      <td>10.0</td>\n",
       "    </tr>\n",
       "    <tr>\n",
       "      <th>20</th>\n",
       "      <td>120</td>\n",
       "      <td>28204</td>\n",
       "      <td>3</td>\n",
       "      <td>0</td>\n",
       "      <td>Organic Fuji Apple</td>\n",
       "      <td>24</td>\n",
       "      <td>4</td>\n",
       "      <td>23750</td>\n",
       "      <td>prior</td>\n",
       "      <td>11</td>\n",
       "      <td>6</td>\n",
       "      <td>8</td>\n",
       "      <td>10.0</td>\n",
       "    </tr>\n",
       "    <tr>\n",
       "      <th>21</th>\n",
       "      <td>120</td>\n",
       "      <td>26604</td>\n",
       "      <td>2</td>\n",
       "      <td>0</td>\n",
       "      <td>Organic Blackberries</td>\n",
       "      <td>24</td>\n",
       "      <td>4</td>\n",
       "      <td>23750</td>\n",
       "      <td>prior</td>\n",
       "      <td>11</td>\n",
       "      <td>6</td>\n",
       "      <td>8</td>\n",
       "      <td>10.0</td>\n",
       "    </tr>\n",
       "  </tbody>\n",
       "</table>\n",
       "</div>"
      ],
      "text/plain": [
       "    order_id  product_id  add_to_cart_order  reordered          product_name  \\\n",
       "17       120       33120                 13          0    Organic Egg Whites   \n",
       "18       120       41273                  4          0      Broccoli Florets   \n",
       "19       120       40545                  1          0          Berry Medley   \n",
       "20       120       28204                  3          0    Organic Fuji Apple   \n",
       "21       120       26604                  2          0  Organic Blackberries   \n",
       "\n",
       "    aisle_id  department_id  user_id eval_set  order_number  order_dow  \\\n",
       "17        86             16    23750    prior            11          6   \n",
       "18       123              4    23750    prior            11          6   \n",
       "19       116              1    23750    prior            11          6   \n",
       "20        24              4    23750    prior            11          6   \n",
       "21        24              4    23750    prior            11          6   \n",
       "\n",
       "    order_hour_of_day  days_since_prior_order  \n",
       "17                  8                    10.0  \n",
       "18                  8                    10.0  \n",
       "19                  8                    10.0  \n",
       "20                  8                    10.0  \n",
       "21                  8                    10.0  "
      ]
     },
     "execution_count": 300,
     "metadata": {},
     "output_type": "execute_result"
    }
   ],
   "source": [
    "test_users_order_details.head()"
   ]
  },
  {
   "cell_type": "code",
   "execution_count": 301,
   "metadata": {
    "collapsed": true
   },
   "outputs": [],
   "source": [
    "#all reordered items\n",
    "user_reordered_items = {}\n",
    "grouped = test_users_order_details.groupby('user_id')\n",
    "for group in grouped:\n",
    "    user_reordered_items[group[0]] = ' '.join(map(str,set(group[1][group[1]['reordered'] == 1].product_id.values)))"
   ]
  },
  {
   "cell_type": "code",
   "execution_count": 302,
   "metadata": {
    "collapsed": false
   },
   "outputs": [
    {
     "name": "stderr",
     "output_type": "stream",
     "text": [
      "/Users/clairemiller/anaconda/lib/python2.7/site-packages/ipykernel/__main__.py:1: SettingWithCopyWarning: \n",
      "A value is trying to be set on a copy of a slice from a DataFrame.\n",
      "Try using .loc[row_indexer,col_indexer] = value instead\n",
      "\n",
      "See the caveats in the documentation: http://pandas.pydata.org/pandas-docs/stable/indexing.html#indexing-view-versus-copy\n",
      "  if __name__ == '__main__':\n"
     ]
    }
   ],
   "source": [
    "#score = 0.2996690\n",
    "test_set['products'] = test_set['user_id'].map(user_reordered_items)\n",
    "test_set[['order_id','products']].to_csv('reordered_items.csv',index=False)"
   ]
  },
  {
   "cell_type": "code",
   "execution_count": null,
   "metadata": {
    "collapsed": true
   },
   "outputs": [],
   "source": []
  },
  {
   "cell_type": "code",
   "execution_count": 294,
   "metadata": {
    "collapsed": false
   },
   "outputs": [],
   "source": [
    "#most recent order\n",
    "user_last_items = {}\n",
    "grouped = test_users_order_details.groupby('user_id')\n",
    "for group in grouped:\n",
    "    user_last_items[group[0]] = ' '.join(map(str,group[1][group[1]['order_number'] == group[1]['order_number'].max()].product_id.values))"
   ]
  },
  {
   "cell_type": "code",
   "execution_count": 299,
   "metadata": {
    "collapsed": false
   },
   "outputs": [
    {
     "name": "stderr",
     "output_type": "stream",
     "text": [
      "/Users/clairemiller/anaconda/lib/python2.7/site-packages/ipykernel/__main__.py:1: SettingWithCopyWarning: \n",
      "A value is trying to be set on a copy of a slice from a DataFrame.\n",
      "Try using .loc[row_indexer,col_indexer] = value instead\n",
      "\n",
      "See the caveats in the documentation: http://pandas.pydata.org/pandas-docs/stable/indexing.html#indexing-view-versus-copy\n",
      "  if __name__ == '__main__':\n"
     ]
    }
   ],
   "source": [
    "#repeat most recent order\n",
    "# score = 0.3118026\n",
    "test_set['products'] = test_set['user_id'].map(user_last_items)\n",
    "test_set[['order_id','products']].to_csv('last_items.csv',index=False)"
   ]
  },
  {
   "cell_type": "code",
   "execution_count": null,
   "metadata": {
    "collapsed": true
   },
   "outputs": [],
   "source": []
  },
  {
   "cell_type": "code",
   "execution_count": 303,
   "metadata": {
    "collapsed": true
   },
   "outputs": [],
   "source": [
    "#last reordered items\n",
    "user_last_reordered_items = {}\n",
    "grouped = test_users_order_details.groupby('user_id')\n",
    "for group in grouped:\n",
    "    user_last_reordered_items[group[0]] = ' '.join(map(str,group[1][(group[1]['order_number'] == group[1]['order_number'].max()) & (group[1]['reordered'] == 1)].product_id.values))"
   ]
  },
  {
   "cell_type": "code",
   "execution_count": 304,
   "metadata": {
    "collapsed": false
   },
   "outputs": [
    {
     "name": "stderr",
     "output_type": "stream",
     "text": [
      "/Users/clairemiller/anaconda/lib/python2.7/site-packages/ipykernel/__main__.py:1: SettingWithCopyWarning: \n",
      "A value is trying to be set on a copy of a slice from a DataFrame.\n",
      "Try using .loc[row_indexer,col_indexer] = value instead\n",
      "\n",
      "See the caveats in the documentation: http://pandas.pydata.org/pandas-docs/stable/indexing.html#indexing-view-versus-copy\n",
      "  if __name__ == '__main__':\n"
     ]
    }
   ],
   "source": [
    "#score = 0.3093626\n",
    "test_set['products'] = test_set['user_id'].map(user_last_reordered_items)\n",
    "test_set[['order_id','products']].to_csv('last_reordered_items.csv',index=False)"
   ]
  },
  {
   "cell_type": "code",
   "execution_count": 339,
   "metadata": {
    "collapsed": false
   },
   "outputs": [
    {
     "data": {
      "text/html": [
       "<div>\n",
       "<table border=\"1\" class=\"dataframe\">\n",
       "  <thead>\n",
       "    <tr style=\"text-align: right;\">\n",
       "      <th></th>\n",
       "      <th>order_id</th>\n",
       "      <th>user_id</th>\n",
       "      <th>eval_set</th>\n",
       "      <th>order_number</th>\n",
       "      <th>order_dow</th>\n",
       "      <th>order_hour_of_day</th>\n",
       "      <th>days_since_prior_order</th>\n",
       "      <th>items</th>\n",
       "      <th>products</th>\n",
       "    </tr>\n",
       "  </thead>\n",
       "  <tbody>\n",
       "    <tr>\n",
       "      <th>38</th>\n",
       "      <td>2774568</td>\n",
       "      <td>3</td>\n",
       "      <td>test</td>\n",
       "      <td>13</td>\n",
       "      <td>5</td>\n",
       "      <td>15</td>\n",
       "      <td>11.0</td>\n",
       "      <td>17668 39190 44683 21903 14992 21137 32402 2203...</td>\n",
       "      <td>21903 47766 39190 24810 18599 23650</td>\n",
       "    </tr>\n",
       "    <tr>\n",
       "      <th>44</th>\n",
       "      <td>329954</td>\n",
       "      <td>4</td>\n",
       "      <td>test</td>\n",
       "      <td>6</td>\n",
       "      <td>3</td>\n",
       "      <td>12</td>\n",
       "      <td>30.0</td>\n",
       "      <td>42329 26576 21573 17769 25623 35469 37646 1200...</td>\n",
       "      <td></td>\n",
       "    </tr>\n",
       "    <tr>\n",
       "      <th>53</th>\n",
       "      <td>1528013</td>\n",
       "      <td>6</td>\n",
       "      <td>test</td>\n",
       "      <td>4</td>\n",
       "      <td>3</td>\n",
       "      <td>16</td>\n",
       "      <td>22.0</td>\n",
       "      <td>40992 27521 20323 48679 8424 45007 25659 10644...</td>\n",
       "      <td></td>\n",
       "    </tr>\n",
       "    <tr>\n",
       "      <th>96</th>\n",
       "      <td>1376945</td>\n",
       "      <td>11</td>\n",
       "      <td>test</td>\n",
       "      <td>8</td>\n",
       "      <td>6</td>\n",
       "      <td>11</td>\n",
       "      <td>8.0</td>\n",
       "      <td>17794 8197 30855 5605 33037 30480 43352 10644 ...</td>\n",
       "      <td>8309 27959 33572</td>\n",
       "    </tr>\n",
       "    <tr>\n",
       "      <th>102</th>\n",
       "      <td>1356845</td>\n",
       "      <td>12</td>\n",
       "      <td>test</td>\n",
       "      <td>6</td>\n",
       "      <td>1</td>\n",
       "      <td>20</td>\n",
       "      <td>30.0</td>\n",
       "      <td>11520 45056 17794 40377 44422 17159 44683 3424...</td>\n",
       "      <td>13176 14992 7076 10863 28134</td>\n",
       "    </tr>\n",
       "  </tbody>\n",
       "</table>\n",
       "</div>"
      ],
      "text/plain": [
       "     order_id  user_id eval_set  order_number  order_dow  order_hour_of_day  \\\n",
       "38    2774568        3     test            13          5                 15   \n",
       "44     329954        4     test             6          3                 12   \n",
       "53    1528013        6     test             4          3                 16   \n",
       "96    1376945       11     test             8          6                 11   \n",
       "102   1356845       12     test             6          1                 20   \n",
       "\n",
       "     days_since_prior_order  \\\n",
       "38                     11.0   \n",
       "44                     30.0   \n",
       "53                     22.0   \n",
       "96                      8.0   \n",
       "102                    30.0   \n",
       "\n",
       "                                                 items  \\\n",
       "38   17668 39190 44683 21903 14992 21137 32402 2203...   \n",
       "44   42329 26576 21573 17769 25623 35469 37646 1200...   \n",
       "53   40992 27521 20323 48679 8424 45007 25659 10644...   \n",
       "96   17794 8197 30855 5605 33037 30480 43352 10644 ...   \n",
       "102  11520 45056 17794 40377 44422 17159 44683 3424...   \n",
       "\n",
       "                                products  \n",
       "38   21903 47766 39190 24810 18599 23650  \n",
       "44                                        \n",
       "53                                        \n",
       "96                      8309 27959 33572  \n",
       "102         13176 14992 7076 10863 28134  "
      ]
     },
     "execution_count": 339,
     "metadata": {},
     "output_type": "execute_result"
    }
   ],
   "source": [
    "test_set.head()"
   ]
  },
  {
   "cell_type": "code",
   "execution_count": null,
   "metadata": {
    "collapsed": true
   },
   "outputs": [],
   "source": []
  }
 ],
 "metadata": {
  "anaconda-cloud": {},
  "kernelspec": {
   "display_name": "Python [default]",
   "language": "python",
   "name": "python2"
  },
  "language_info": {
   "codemirror_mode": {
    "name": "ipython",
    "version": 2
   },
   "file_extension": ".py",
   "mimetype": "text/x-python",
   "name": "python",
   "nbconvert_exporter": "python",
   "pygments_lexer": "ipython2",
   "version": "2.7.12"
  }
 },
 "nbformat": 4,
 "nbformat_minor": 1
}
